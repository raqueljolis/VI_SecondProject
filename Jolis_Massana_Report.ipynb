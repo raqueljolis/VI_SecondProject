{
  "nbformat": 4,
  "nbformat_minor": 0,
  "metadata": {
    "colab": {
      "provenance": []
    },
    "kernelspec": {
      "name": "python3",
      "display_name": "Python 3"
    },
    "language_info": {
      "name": "python"
    }
  },
  "cells": [
    {
      "cell_type": "markdown",
      "source": [
        "## **Second project:** Analysis of the evolution of Mass Shootings in the US\n",
        "\n",
        "Authors: **Raquel Jolis Carné and Martina Massana Massip**"
      ],
      "metadata": {
        "id": "H_xqeOLq0xX5"
      }
    },
    {
      "cell_type": "markdown",
      "source": [
        "**Uploading the folder *visualization_data*** will ensure all necessary datasets are loaded to properly treat them in this notebook."
      ],
      "metadata": {
        "id": "0_JZG9bS04wz"
      }
    },
    {
      "cell_type": "markdown",
      "source": [
        "## **Data Cleaning with OpenRefine**"
      ],
      "metadata": {
        "id": "qlHenejq08Iw"
      }
    },
    {
      "cell_type": "markdown",
      "source": [
        "The only document we done a thorough data cleaning for is *MassShootings.csv*, which we have conducted the following procedure.  \n",
        "\n",
        "1. Changing the type of **numerical data columns from *strings* to *integers*.** As well as setting the ***Incident Date*** column as a ***timestamp.***\n",
        "2. Combining the columns ***State, City or County* and *Address* into a single *Complete_Address*** with the three fields.\n",
        "3. Extracting **OpenStreetMap coordinates** for the complete addresses into a new *Coordinates* column.  \n",
        "4. **Erasing rows** where **coordinates** were **not found.**\n",
        "5. **Separating the *Coordinates*** values into two columns: ***Longitude* and *Latitude.***\n",
        "6. Extracting ***FIPS* codes and *Population*** for each state by **fetching information from wikidata** using a Reconciling facet in OpenRefine.\n",
        "7. Adding a new column ***Region*** with categories: *Midwest*, *Northeast*, *Southeast*, *Soutwest* and *West*.\n",
        "\n",
        "Additional transformations to answer the concrete questions have been specified in the pertinent exercicies in the creation of *Pandas* dataframes by joining multiple datasets and selecting relevant columns."
      ],
      "metadata": {
        "id": "KFNambtR0-Am"
      }
    },
    {
      "cell_type": "code",
      "execution_count": 1,
      "metadata": {
        "id": "5x_AmwA92JS8",
        "colab": {
          "base_uri": "https://localhost:8080/"
        },
        "outputId": "73c800df-2e9a-4fe7-f713-6d34d4242b3e"
      },
      "outputs": [
        {
          "output_type": "stream",
          "name": "stdout",
          "text": [
            "\u001b[?25l   \u001b[90m━━━━━━━━━━━━━━━━━━━━━━━━━━━━━━━━━━━━━━━━\u001b[0m \u001b[32m0.0/658.1 kB\u001b[0m \u001b[31m?\u001b[0m eta \u001b[36m-:--:--\u001b[0m\r\u001b[2K   \u001b[91m━━━━━━━━━━━━━━━━━━━━\u001b[0m\u001b[91m╸\u001b[0m\u001b[90m━━━━━━━━━━━━━━━━━━━\u001b[0m \u001b[32m337.9/658.1 kB\u001b[0m \u001b[31m10.4 MB/s\u001b[0m eta \u001b[36m0:00:01\u001b[0m\r\u001b[2K   \u001b[90m━━━━━━━━━━━━━━━━━━━━━━━━━━━━━━━━━━━━━━━━\u001b[0m \u001b[32m658.1/658.1 kB\u001b[0m \u001b[31m10.8 MB/s\u001b[0m eta \u001b[36m0:00:00\u001b[0m\n",
            "\u001b[?25h\u001b[?25l   \u001b[90m━━━━━━━━━━━━━━━━━━━━━━━━━━━━━━━━━━━━━━━━\u001b[0m \u001b[32m0.0/232.5 kB\u001b[0m \u001b[31m?\u001b[0m eta \u001b[36m-:--:--\u001b[0m\r\u001b[2K   \u001b[90m━━━━━━━━━━━━━━━━━━━━━━━━━━━━━━━━━━━━━━━━\u001b[0m \u001b[32m232.5/232.5 kB\u001b[0m \u001b[31m13.1 MB/s\u001b[0m eta \u001b[36m0:00:00\u001b[0m\n",
            "\u001b[?25h"
          ]
        }
      ],
      "source": [
        "!pip install -q altair==5.4.1"
      ]
    },
    {
      "cell_type": "code",
      "source": [
        "import pandas as pd\n",
        "import altair as alt\n",
        "\n",
        "# for County choropleths\n",
        "import geopandas as gpd\n",
        "from shapely.geometry import Point\n",
        "from shapely.geometry import Polygon, MultiPolygon"
      ],
      "metadata": {
        "id": "CmoKvJ982MrA"
      },
      "execution_count": 81,
      "outputs": []
    },
    {
      "cell_type": "code",
      "source": [
        "mass_shootings = pd.read_csv('MassShootings.csv')\n",
        "counties_gdf = gpd.read_file('Counties.geojson')"
      ],
      "metadata": {
        "id": "VATqD5a72Pgy"
      },
      "execution_count": 82,
      "outputs": []
    },
    {
      "cell_type": "code",
      "source": [
        "mass_shootings['Incident Date'] = pd.to_datetime(mass_shootings['Incident Date'])\n",
        "mass_shootings['Month_Year'] = mass_shootings['Incident Date'].dt.to_period('M')\n",
        "mass_shootings['Year'] = mass_shootings['Month_Year'].apply(lambda x: x.year)\n",
        "mass_shootings = mass_shootings.drop('Incident Date', axis=1)\n",
        "\n",
        "# grouping BY STATE AND MONTH\n",
        "mass_shootings_states = mass_shootings.groupby(['State', 'Month_Year', 'Year', 'Region', 'Population']).size().reset_index(name='Total Shootings')\n",
        "\n",
        "# grouping BY REGION AND MONTH\n",
        "mass_shootings_regions = mass_shootings.groupby(['Region', 'Month_Year', 'Year']).size().reset_index(name='Total Shootings')\n",
        "region_population = mass_shootings_states.drop_duplicates('State').groupby(['Region'])['Population'].sum()\n",
        "mass_shootings_regions = mass_shootings_regions.merge(region_population, on='Region')"
      ],
      "metadata": {
        "id": "g2FPRLrU0A8f",
        "colab": {
          "base_uri": "https://localhost:8080/"
        },
        "outputId": "f78dbb1b-fc71-43f5-bb54-83d1be3f3029"
      },
      "execution_count": 83,
      "outputs": [
        {
          "output_type": "stream",
          "name": "stderr",
          "text": [
            "<ipython-input-83-1fbc397c84f4>:2: UserWarning: Converting to PeriodArray/Index representation will drop timezone information.\n",
            "  mass_shootings['Month_Year'] = mass_shootings['Incident Date'].dt.to_period('M')\n"
          ]
        }
      ]
    },
    {
      "cell_type": "markdown",
      "source": [
        "## **First question**\n",
        "#### **How has the number of mass shootings evolved in the big US regions between two concrete years? And by States?**"
      ],
      "metadata": {
        "id": "-fUvbPDs1y5k"
      }
    },
    {
      "cell_type": "markdown",
      "source": [
        "## **Second question**\n",
        "#### **Given a concrete year, how has the number of mass shooting per citizen grown or decreased across the different regions in the US compared to the first year of sampled data?**"
      ],
      "metadata": {
        "id": "3BSYrt6Q1z79"
      }
    },
    {
      "cell_type": "markdown",
      "source": [
        "**Additional data preparation**"
      ],
      "metadata": {
        "id": "NKM4qNQn1uLm"
      }
    },
    {
      "cell_type": "code",
      "source": [
        "mass_shootings_regions = mass_shootings_regions.groupby(['Region', 'Year', 'Population'])['Total Shootings'].sum().reset_index()\n",
        "\n",
        "# defining the proportion by population\n",
        "mass_shootings_regions['Shootings per 10M citizens'] = mass_shootings_regions['Total Shootings'] / mass_shootings_regions['Population'] * 10**7\n",
        "mass_shootings_regions = mass_shootings_regions.drop(['Population', 'Total Shootings'], axis=1)\n",
        "\n",
        "# for the sake of correct slope chart plotting\n",
        "mass_shootings_regions['Comparison'] = mass_shootings_regions['Year'].apply(lambda x: '2014' if x == 2014 else 'Comparison Year')\n",
        "\n",
        "mass_shootings_2014 = mass_shootings_regions[mass_shootings_regions['Year'] == 2014].drop(['Year', 'Comparison'], axis=1)\n",
        "mass_shootings_regions = mass_shootings_regions[mass_shootings_regions['Year'] != 2014]\n",
        "\n",
        "for region in mass_shootings_regions['Region'].unique():\n",
        "    for year in mass_shootings_regions['Year'].unique():\n",
        "      new_row = pd.DataFrame({\n",
        "          'Region': [region],\n",
        "          'Year': [year],\n",
        "          'Comparison': ['2014'],\n",
        "          'Shootings per 10M citizens': [mass_shootings_2014[mass_shootings_2014['Region'] == region]['Shootings per 10M citizens'].iloc[0]]\n",
        "      })\n",
        "\n",
        "      mass_shootings_regions = pd.concat([mass_shootings_regions, new_row], ignore_index=True)\n",
        "\n",
        "# separating the dataset by regions for posterior plot juxtaposition\n",
        "mass_shootings_midwest = mass_shootings_regions[mass_shootings_regions['Region'] == 'Midwest']\n",
        "mass_shootings_northeast = mass_shootings_regions[mass_shootings_regions['Region'] == 'Northeast']\n",
        "mass_shootings_southeast = mass_shootings_regions[mass_shootings_regions['Region'] == 'Southeast']\n",
        "mass_shootings_southwest = mass_shootings_regions[mass_shootings_regions['Region'] == 'Southwest']\n",
        "mass_shootings_west = mass_shootings_regions[mass_shootings_regions['Region'] == 'West']"
      ],
      "metadata": {
        "id": "rboXPl6C0eum"
      },
      "execution_count": 84,
      "outputs": []
    },
    {
      "cell_type": "markdown",
      "source": [
        "**Slopechart plotting**"
      ],
      "metadata": {
        "id": "BjLaFnAf0atf"
      }
    },
    {
      "cell_type": "code",
      "source": [
        "select_year = alt.selection_point(encodings = ['color'])\n",
        "\n",
        "color = alt.condition(select_year,\n",
        "                      alt.Color('Year:N', legend = None),\n",
        "                      alt.value('rgba(169, 169, 169, 0.3)')) # different color and lower opacity\n",
        "\n",
        "slopecharts_regions = list()\n",
        "region_dfs = [mass_shootings_midwest, mass_shootings_northeast, mass_shootings_southeast, mass_shootings_southwest, mass_shootings_west]\n",
        "region_names = ['Midwest', 'Northeast', 'Southeast', 'Southwest', 'West']\n",
        "\n",
        "for i in range(len(region_dfs)):\n",
        "    df = region_dfs[i]\n",
        "    region = region_names[i]\n",
        "\n",
        "    slopechart = alt.Chart(df).mark_line(point = True).encode(\n",
        "        x = alt.X('Comparison:N',\n",
        "                  title = 'Time',\n",
        "                  axis = alt.Axis(labelAngle = 45)), # horizontal placement for better readibility\n",
        "        y = alt.Y('Shootings per 10M citizens:Q',\n",
        "              scale = alt.Scale(domain = [4,30]),\n",
        "              title = 'Shootings per 10M citizens'),\n",
        "        color = color,\n",
        "        tooltip = 'Shootings per 10M citizens:Q'\n",
        "    ).properties(title = alt.TitleParams(\n",
        "        text = f'{region}',\n",
        "        fontSize = 15,\n",
        "        color = 'black',\n",
        "        fontWeight='bold'),\n",
        "                 width = 150,\n",
        "                 height = 400\n",
        "    ).add_params(select_year)\n",
        "\n",
        "    slopecharts_regions.append(slopechart)\n",
        "\n",
        "legend = alt.Chart(mass_shootings_regions).mark_circle(size = 70).encode(\n",
        "    alt.Y('Year:N').axis(orient='right'),\n",
        "    color = color,\n",
        ").add_params(select_year)\n",
        "\n",
        "Q2_slopecharts = alt.hconcat(*slopecharts_regions)\n",
        "Q2_slopecharts_final = Q2_slopecharts | legend\n",
        "Q2_slopecharts_final"
      ],
      "metadata": {
        "colab": {
          "base_uri": "https://localhost:8080/",
          "height": 541
        },
        "id": "Fa-ySkS60nYl",
        "outputId": "6bbab327-894b-4808-84b2-dac265aec33f"
      },
      "execution_count": 126,
      "outputs": [
        {
          "output_type": "execute_result",
          "data": {
            "text/html": [
              "\n",
              "<style>\n",
              "  #altair-viz-0b663e2046d64533bb01dbbc2eea5954.vega-embed {\n",
              "    width: 100%;\n",
              "    display: flex;\n",
              "  }\n",
              "\n",
              "  #altair-viz-0b663e2046d64533bb01dbbc2eea5954.vega-embed details,\n",
              "  #altair-viz-0b663e2046d64533bb01dbbc2eea5954.vega-embed details summary {\n",
              "    position: relative;\n",
              "  }\n",
              "</style>\n",
              "<div id=\"altair-viz-0b663e2046d64533bb01dbbc2eea5954\"></div>\n",
              "<script type=\"text/javascript\">\n",
              "  var VEGA_DEBUG = (typeof VEGA_DEBUG == \"undefined\") ? {} : VEGA_DEBUG;\n",
              "  (function(spec, embedOpt){\n",
              "    let outputDiv = document.currentScript.previousElementSibling;\n",
              "    if (outputDiv.id !== \"altair-viz-0b663e2046d64533bb01dbbc2eea5954\") {\n",
              "      outputDiv = document.getElementById(\"altair-viz-0b663e2046d64533bb01dbbc2eea5954\");\n",
              "    }\n",
              "    const paths = {\n",
              "      \"vega\": \"https://cdn.jsdelivr.net/npm/vega@5?noext\",\n",
              "      \"vega-lib\": \"https://cdn.jsdelivr.net/npm/vega-lib?noext\",\n",
              "      \"vega-lite\": \"https://cdn.jsdelivr.net/npm/vega-lite@5.20.1?noext\",\n",
              "      \"vega-embed\": \"https://cdn.jsdelivr.net/npm/vega-embed@6?noext\",\n",
              "    };\n",
              "\n",
              "    function maybeLoadScript(lib, version) {\n",
              "      var key = `${lib.replace(\"-\", \"\")}_version`;\n",
              "      return (VEGA_DEBUG[key] == version) ?\n",
              "        Promise.resolve(paths[lib]) :\n",
              "        new Promise(function(resolve, reject) {\n",
              "          var s = document.createElement('script');\n",
              "          document.getElementsByTagName(\"head\")[0].appendChild(s);\n",
              "          s.async = true;\n",
              "          s.onload = () => {\n",
              "            VEGA_DEBUG[key] = version;\n",
              "            return resolve(paths[lib]);\n",
              "          };\n",
              "          s.onerror = () => reject(`Error loading script: ${paths[lib]}`);\n",
              "          s.src = paths[lib];\n",
              "        });\n",
              "    }\n",
              "\n",
              "    function showError(err) {\n",
              "      outputDiv.innerHTML = `<div class=\"error\" style=\"color:red;\">${err}</div>`;\n",
              "      throw err;\n",
              "    }\n",
              "\n",
              "    function displayChart(vegaEmbed) {\n",
              "      vegaEmbed(outputDiv, spec, embedOpt)\n",
              "        .catch(err => showError(`Javascript Error: ${err.message}<br>This usually means there's a typo in your chart specification. See the javascript console for the full traceback.`));\n",
              "    }\n",
              "\n",
              "    if(typeof define === \"function\" && define.amd) {\n",
              "      requirejs.config({paths});\n",
              "      require([\"vega-embed\"], displayChart, err => showError(`Error loading script: ${err.message}`));\n",
              "    } else {\n",
              "      maybeLoadScript(\"vega\", \"5\")\n",
              "        .then(() => maybeLoadScript(\"vega-lite\", \"5.20.1\"))\n",
              "        .then(() => maybeLoadScript(\"vega-embed\", \"6\"))\n",
              "        .catch(showError)\n",
              "        .then(() => displayChart(vegaEmbed));\n",
              "    }\n",
              "  })({\"config\": {\"view\": {\"continuousWidth\": 300, \"continuousHeight\": 300}}, \"hconcat\": [{\"data\": {\"name\": \"data-e469faecc0c52c2a9ba306e24687dbc8\"}, \"mark\": {\"type\": \"line\", \"point\": true}, \"encoding\": {\"color\": {\"condition\": {\"param\": \"param_37\", \"field\": \"Year\", \"legend\": null, \"type\": \"nominal\"}, \"value\": \"rgba(169, 169, 169, 0.3)\"}, \"tooltip\": {\"field\": \"Shootings per 10M citizens\", \"type\": \"quantitative\"}, \"x\": {\"axis\": {\"labelAngle\": 45}, \"field\": \"Comparison\", \"title\": \"Time\", \"type\": \"nominal\"}, \"y\": {\"field\": \"Shootings per 10M citizens\", \"scale\": {\"domain\": [4, 30]}, \"title\": \"Shootings per 10M citizens\", \"type\": \"quantitative\"}}, \"height\": 400, \"name\": \"view_199\", \"title\": {\"text\": \"Midwest\", \"color\": \"black\", \"fontSize\": 15, \"fontWeight\": \"bold\"}, \"width\": 150}, {\"data\": {\"name\": \"data-b296f9a8bbbafa5f88b9c7c2c27a3a7d\"}, \"mark\": {\"type\": \"line\", \"point\": true}, \"encoding\": {\"color\": {\"condition\": {\"param\": \"param_37\", \"field\": \"Year\", \"legend\": null, \"type\": \"nominal\"}, \"value\": \"rgba(169, 169, 169, 0.3)\"}, \"tooltip\": {\"field\": \"Shootings per 10M citizens\", \"type\": \"quantitative\"}, \"x\": {\"axis\": {\"labelAngle\": 45}, \"field\": \"Comparison\", \"title\": \"Time\", \"type\": \"nominal\"}, \"y\": {\"field\": \"Shootings per 10M citizens\", \"scale\": {\"domain\": [4, 30]}, \"title\": \"Shootings per 10M citizens\", \"type\": \"quantitative\"}}, \"height\": 400, \"name\": \"view_200\", \"title\": {\"text\": \"Northeast\", \"color\": \"black\", \"fontSize\": 15, \"fontWeight\": \"bold\"}, \"width\": 150}, {\"data\": {\"name\": \"data-a1efab011cce67ede3f51baa02968fc3\"}, \"mark\": {\"type\": \"line\", \"point\": true}, \"encoding\": {\"color\": {\"condition\": {\"param\": \"param_37\", \"field\": \"Year\", \"legend\": null, \"type\": \"nominal\"}, \"value\": \"rgba(169, 169, 169, 0.3)\"}, \"tooltip\": {\"field\": \"Shootings per 10M citizens\", \"type\": \"quantitative\"}, \"x\": {\"axis\": {\"labelAngle\": 45}, \"field\": \"Comparison\", \"title\": \"Time\", \"type\": \"nominal\"}, \"y\": {\"field\": \"Shootings per 10M citizens\", \"scale\": {\"domain\": [4, 30]}, \"title\": \"Shootings per 10M citizens\", \"type\": \"quantitative\"}}, \"height\": 400, \"name\": \"view_201\", \"title\": {\"text\": \"Southeast\", \"color\": \"black\", \"fontSize\": 15, \"fontWeight\": \"bold\"}, \"width\": 150}, {\"data\": {\"name\": \"data-d039ec7ee299028166ecefd5c011b65a\"}, \"mark\": {\"type\": \"line\", \"point\": true}, \"encoding\": {\"color\": {\"condition\": {\"param\": \"param_37\", \"field\": \"Year\", \"legend\": null, \"type\": \"nominal\"}, \"value\": \"rgba(169, 169, 169, 0.3)\"}, \"tooltip\": {\"field\": \"Shootings per 10M citizens\", \"type\": \"quantitative\"}, \"x\": {\"axis\": {\"labelAngle\": 45}, \"field\": \"Comparison\", \"title\": \"Time\", \"type\": \"nominal\"}, \"y\": {\"field\": \"Shootings per 10M citizens\", \"scale\": {\"domain\": [4, 30]}, \"title\": \"Shootings per 10M citizens\", \"type\": \"quantitative\"}}, \"height\": 400, \"name\": \"view_202\", \"title\": {\"text\": \"Southwest\", \"color\": \"black\", \"fontSize\": 15, \"fontWeight\": \"bold\"}, \"width\": 150}, {\"data\": {\"name\": \"data-cff194c40defb84c8248a5f47f37b3a5\"}, \"mark\": {\"type\": \"line\", \"point\": true}, \"encoding\": {\"color\": {\"condition\": {\"param\": \"param_37\", \"field\": \"Year\", \"legend\": null, \"type\": \"nominal\"}, \"value\": \"rgba(169, 169, 169, 0.3)\"}, \"tooltip\": {\"field\": \"Shootings per 10M citizens\", \"type\": \"quantitative\"}, \"x\": {\"axis\": {\"labelAngle\": 45}, \"field\": \"Comparison\", \"title\": \"Time\", \"type\": \"nominal\"}, \"y\": {\"field\": \"Shootings per 10M citizens\", \"scale\": {\"domain\": [4, 30]}, \"title\": \"Shootings per 10M citizens\", \"type\": \"quantitative\"}}, \"height\": 400, \"name\": \"view_203\", \"title\": {\"text\": \"West\", \"color\": \"black\", \"fontSize\": 15, \"fontWeight\": \"bold\"}, \"width\": 150}, {\"data\": {\"name\": \"data-6a229ef8028a837cc4092b7f2d0230b2\"}, \"mark\": {\"type\": \"circle\", \"size\": 70}, \"encoding\": {\"color\": {\"condition\": {\"param\": \"param_37\", \"field\": \"Year\", \"legend\": null, \"type\": \"nominal\"}, \"value\": \"rgba(169, 169, 169, 0.3)\"}, \"y\": {\"axis\": {\"orient\": \"right\"}, \"field\": \"Year\", \"type\": \"nominal\"}}, \"name\": \"view_204\"}], \"params\": [{\"name\": \"param_37\", \"select\": {\"type\": \"point\", \"encodings\": [\"color\"]}, \"views\": [\"view_199\", \"view_200\", \"view_201\", \"view_202\", \"view_203\", \"view_204\"]}], \"$schema\": \"https://vega.github.io/schema/vega-lite/v5.20.1.json\", \"datasets\": {\"data-e469faecc0c52c2a9ba306e24687dbc8\": [{\"Region\": \"Midwest\", \"Year\": 2015, \"Shootings per 10M citizens\": 12.321438081715023, \"Comparison\": \"Comparison Year\"}, {\"Region\": \"Midwest\", \"Year\": 2016, \"Shootings per 10M citizens\": 13.626060937426026, \"Comparison\": \"Comparison Year\"}, {\"Region\": \"Midwest\", \"Year\": 2017, \"Shootings per 10M citizens\": 13.626060937426026, \"Comparison\": \"Comparison Year\"}, {\"Region\": \"Midwest\", \"Year\": 2018, \"Shootings per 10M citizens\": 12.321438081715023, \"Comparison\": \"Comparison Year\"}, {\"Region\": \"Midwest\", \"Year\": 2019, \"Shootings per 10M citizens\": 14.930683793137028, \"Comparison\": \"Comparison Year\"}, {\"Region\": \"Midwest\", \"Year\": 2020, \"Shootings per 10M citizens\": 24.208001878193045, \"Comparison\": \"Comparison Year\"}, {\"Region\": \"Midwest\", \"Year\": 2021, \"Shootings per 10M citizens\": 29.716409491195055, \"Comparison\": \"Comparison Year\"}, {\"Region\": \"Midwest\", \"Year\": 2022, \"Shootings per 10M citizens\": 24.208001878193045, \"Comparison\": \"Comparison Year\"}, {\"Region\": \"Midwest\", \"Year\": 2023, \"Shootings per 10M citizens\": 22.323546642166043, \"Comparison\": \"Comparison Year\"}, {\"Region\": \"Midwest\", \"Year\": 2015, \"Shootings per 10M citizens\": 9.132359989977017, \"Comparison\": \"2014\"}, {\"Region\": \"Midwest\", \"Year\": 2016, \"Shootings per 10M citizens\": 9.132359989977017, \"Comparison\": \"2014\"}, {\"Region\": \"Midwest\", \"Year\": 2017, \"Shootings per 10M citizens\": 9.132359989977017, \"Comparison\": \"2014\"}, {\"Region\": \"Midwest\", \"Year\": 2018, \"Shootings per 10M citizens\": 9.132359989977017, \"Comparison\": \"2014\"}, {\"Region\": \"Midwest\", \"Year\": 2019, \"Shootings per 10M citizens\": 9.132359989977017, \"Comparison\": \"2014\"}, {\"Region\": \"Midwest\", \"Year\": 2020, \"Shootings per 10M citizens\": 9.132359989977017, \"Comparison\": \"2014\"}, {\"Region\": \"Midwest\", \"Year\": 2021, \"Shootings per 10M citizens\": 9.132359989977017, \"Comparison\": \"2014\"}, {\"Region\": \"Midwest\", \"Year\": 2022, \"Shootings per 10M citizens\": 9.132359989977017, \"Comparison\": \"2014\"}, {\"Region\": \"Midwest\", \"Year\": 2023, \"Shootings per 10M citizens\": 9.132359989977017, \"Comparison\": \"2014\"}], \"data-b296f9a8bbbafa5f88b9c7c2c27a3a7d\": [{\"Region\": \"Northeast\", \"Year\": 2015, \"Shootings per 10M citizens\": 10.343285941529249, \"Comparison\": \"Comparison Year\"}, {\"Region\": \"Northeast\", \"Year\": 2016, \"Shootings per 10M citizens\": 8.33637971406835, \"Comparison\": \"Comparison Year\"}, {\"Region\": \"Northeast\", \"Year\": 2017, \"Shootings per 10M citizens\": 8.490757116180728, \"Comparison\": \"Comparison Year\"}, {\"Region\": \"Northeast\", \"Year\": 2018, \"Shootings per 10M citizens\": 8.490757116180728, \"Comparison\": \"Comparison Year\"}, {\"Region\": \"Northeast\", \"Year\": 2019, \"Shootings per 10M citizens\": 10.652040745754004, \"Comparison\": \"Comparison Year\"}, {\"Region\": \"Northeast\", \"Year\": 2020, \"Shootings per 10M citizens\": 18.525288253485225, \"Comparison\": \"Comparison Year\"}, {\"Region\": \"Northeast\", \"Year\": 2021, \"Shootings per 10M citizens\": 18.679665655597603, \"Comparison\": \"Comparison Year\"}, {\"Region\": \"Northeast\", \"Year\": 2022, \"Shootings per 10M citizens\": 15.28336280912531, \"Comparison\": \"Comparison Year\"}, {\"Region\": \"Northeast\", \"Year\": 2023, \"Shootings per 10M citizens\": 14.974608004900555, \"Comparison\": \"Comparison Year\"}, {\"Region\": \"Northeast\", \"Year\": 2015, \"Shootings per 10M citizens\": 5.86634128027032, \"Comparison\": \"2014\"}, {\"Region\": \"Northeast\", \"Year\": 2016, \"Shootings per 10M citizens\": 5.86634128027032, \"Comparison\": \"2014\"}, {\"Region\": \"Northeast\", \"Year\": 2017, \"Shootings per 10M citizens\": 5.86634128027032, \"Comparison\": \"2014\"}, {\"Region\": \"Northeast\", \"Year\": 2018, \"Shootings per 10M citizens\": 5.86634128027032, \"Comparison\": \"2014\"}, {\"Region\": \"Northeast\", \"Year\": 2019, \"Shootings per 10M citizens\": 5.86634128027032, \"Comparison\": \"2014\"}, {\"Region\": \"Northeast\", \"Year\": 2020, \"Shootings per 10M citizens\": 5.86634128027032, \"Comparison\": \"2014\"}, {\"Region\": \"Northeast\", \"Year\": 2021, \"Shootings per 10M citizens\": 5.86634128027032, \"Comparison\": \"2014\"}, {\"Region\": \"Northeast\", \"Year\": 2022, \"Shootings per 10M citizens\": 5.86634128027032, \"Comparison\": \"2014\"}, {\"Region\": \"Northeast\", \"Year\": 2023, \"Shootings per 10M citizens\": 5.86634128027032, \"Comparison\": \"2014\"}], \"data-a1efab011cce67ede3f51baa02968fc3\": [{\"Region\": \"Southeast\", \"Year\": 2015, \"Shootings per 10M citizens\": 13.01220432227446, \"Comparison\": \"Comparison Year\"}, {\"Region\": \"Southeast\", \"Year\": 2016, \"Shootings per 10M citizens\": 14.4189291138717, \"Comparison\": \"Comparison Year\"}, {\"Region\": \"Southeast\", \"Year\": 2017, \"Shootings per 10M citizens\": 13.481112586140206, \"Comparison\": \"Comparison Year\"}, {\"Region\": \"Southeast\", \"Year\": 2018, \"Shootings per 10M citizens\": 12.777750190341587, \"Comparison\": \"Comparison Year\"}, {\"Region\": \"Southeast\", \"Year\": 2019, \"Shootings per 10M citizens\": 14.770610311771009, \"Comparison\": \"Comparison Year\"}, {\"Region\": \"Southeast\", \"Year\": 2020, \"Shootings per 10M citizens\": 24.031548523119497, \"Comparison\": \"Comparison Year\"}, {\"Region\": \"Southeast\", \"Year\": 2021, \"Shootings per 10M citizens\": 23.09373199538801, \"Comparison\": \"Comparison Year\"}, {\"Region\": \"Southeast\", \"Year\": 2022, \"Shootings per 10M citizens\": 24.500456786985247, \"Comparison\": \"Comparison Year\"}, {\"Region\": \"Southeast\", \"Year\": 2023, \"Shootings per 10M citizens\": 25.3210462487503, \"Comparison\": \"Comparison Year\"}, {\"Region\": \"Southeast\", \"Year\": 2015, \"Shootings per 10M citizens\": 10.433208871012855, \"Comparison\": \"2014\"}, {\"Region\": \"Southeast\", \"Year\": 2016, \"Shootings per 10M citizens\": 10.433208871012855, \"Comparison\": \"2014\"}, {\"Region\": \"Southeast\", \"Year\": 2017, \"Shootings per 10M citizens\": 10.433208871012855, \"Comparison\": \"2014\"}, {\"Region\": \"Southeast\", \"Year\": 2018, \"Shootings per 10M citizens\": 10.433208871012855, \"Comparison\": \"2014\"}, {\"Region\": \"Southeast\", \"Year\": 2019, \"Shootings per 10M citizens\": 10.433208871012855, \"Comparison\": \"2014\"}, {\"Region\": \"Southeast\", \"Year\": 2020, \"Shootings per 10M citizens\": 10.433208871012855, \"Comparison\": \"2014\"}, {\"Region\": \"Southeast\", \"Year\": 2021, \"Shootings per 10M citizens\": 10.433208871012855, \"Comparison\": \"2014\"}, {\"Region\": \"Southeast\", \"Year\": 2022, \"Shootings per 10M citizens\": 10.433208871012855, \"Comparison\": \"2014\"}, {\"Region\": \"Southeast\", \"Year\": 2023, \"Shootings per 10M citizens\": 10.433208871012855, \"Comparison\": \"2014\"}], \"data-d039ec7ee299028166ecefd5c011b65a\": [{\"Region\": \"Southwest\", \"Year\": 2015, \"Shootings per 10M citizens\": 7.079832808332265, \"Comparison\": \"Comparison Year\"}, {\"Region\": \"Southwest\", \"Year\": 2016, \"Shootings per 10M citizens\": 9.439777077776354, \"Comparison\": \"Comparison Year\"}, {\"Region\": \"Southwest\", \"Year\": 2017, \"Shootings per 10M citizens\": 6.843838381387856, \"Comparison\": \"Comparison Year\"}, {\"Region\": \"Southwest\", \"Year\": 2018, \"Shootings per 10M citizens\": 5.663866246665812, \"Comparison\": \"Comparison Year\"}, {\"Region\": \"Southwest\", \"Year\": 2019, \"Shootings per 10M citizens\": 9.911765931665169, \"Comparison\": \"Comparison Year\"}, {\"Region\": \"Southwest\", \"Year\": 2020, \"Shootings per 10M citizens\": 9.911765931665169, \"Comparison\": \"Comparison Year\"}, {\"Region\": \"Southwest\", \"Year\": 2021, \"Shootings per 10M citizens\": 15.103643324442164, \"Comparison\": \"Comparison Year\"}, {\"Region\": \"Southwest\", \"Year\": 2022, \"Shootings per 10M citizens\": 17.69958202083066, \"Comparison\": \"Comparison Year\"}, {\"Region\": \"Southwest\", \"Year\": 2023, \"Shootings per 10M citizens\": 19.587537436385933, \"Comparison\": \"Comparison Year\"}, {\"Region\": \"Southwest\", \"Year\": 2015, \"Shootings per 10M citizens\": 4.9558829658325845, \"Comparison\": \"2014\"}, {\"Region\": \"Southwest\", \"Year\": 2016, \"Shootings per 10M citizens\": 4.9558829658325845, \"Comparison\": \"2014\"}, {\"Region\": \"Southwest\", \"Year\": 2017, \"Shootings per 10M citizens\": 4.9558829658325845, \"Comparison\": \"2014\"}, {\"Region\": \"Southwest\", \"Year\": 2018, \"Shootings per 10M citizens\": 4.9558829658325845, \"Comparison\": \"2014\"}, {\"Region\": \"Southwest\", \"Year\": 2019, \"Shootings per 10M citizens\": 4.9558829658325845, \"Comparison\": \"2014\"}, {\"Region\": \"Southwest\", \"Year\": 2020, \"Shootings per 10M citizens\": 4.9558829658325845, \"Comparison\": \"2014\"}, {\"Region\": \"Southwest\", \"Year\": 2021, \"Shootings per 10M citizens\": 4.9558829658325845, \"Comparison\": \"2014\"}, {\"Region\": \"Southwest\", \"Year\": 2022, \"Shootings per 10M citizens\": 4.9558829658325845, \"Comparison\": \"2014\"}, {\"Region\": \"Southwest\", \"Year\": 2023, \"Shootings per 10M citizens\": 4.9558829658325845, \"Comparison\": \"2014\"}], \"data-cff194c40defb84c8248a5f47f37b3a5\": [{\"Region\": \"West\", \"Year\": 2015, \"Shootings per 10M citizens\": 5.04908081627999, \"Comparison\": \"Comparison Year\"}, {\"Region\": \"West\", \"Year\": 2016, \"Shootings per 10M citizens\": 9.088345469303983, \"Comparison\": \"Comparison Year\"}, {\"Region\": \"West\", \"Year\": 2017, \"Shootings per 10M citizens\": 6.635934787110846, \"Comparison\": \"Comparison Year\"}, {\"Region\": \"West\", \"Year\": 2018, \"Shootings per 10M citizens\": 7.212972594685701, \"Comparison\": \"Comparison Year\"}, {\"Region\": \"West\", \"Year\": 2019, \"Shootings per 10M citizens\": 9.232604921197698, \"Comparison\": \"Comparison Year\"}, {\"Region\": \"West\", \"Year\": 2020, \"Shootings per 10M citizens\": 9.521123824985125, \"Comparison\": \"Comparison Year\"}, {\"Region\": \"West\", \"Year\": 2021, \"Shootings per 10M citizens\": 11.540756151497122, \"Comparison\": \"Comparison Year\"}, {\"Region\": \"West\", \"Year\": 2022, \"Shootings per 10M citizens\": 12.262053410965692, \"Comparison\": \"Comparison Year\"}, {\"Region\": \"West\", \"Year\": 2023, \"Shootings per 10M citizens\": 13.416129026115405, \"Comparison\": \"Comparison Year\"}, {\"Region\": \"West\", \"Year\": 2015, \"Shootings per 10M citizens\": 7.790010402260557, \"Comparison\": \"2014\"}, {\"Region\": \"West\", \"Year\": 2016, \"Shootings per 10M citizens\": 7.790010402260557, \"Comparison\": \"2014\"}, {\"Region\": \"West\", \"Year\": 2017, \"Shootings per 10M citizens\": 7.790010402260557, \"Comparison\": \"2014\"}, {\"Region\": \"West\", \"Year\": 2018, \"Shootings per 10M citizens\": 7.790010402260557, \"Comparison\": \"2014\"}, {\"Region\": \"West\", \"Year\": 2019, \"Shootings per 10M citizens\": 7.790010402260557, \"Comparison\": \"2014\"}, {\"Region\": \"West\", \"Year\": 2020, \"Shootings per 10M citizens\": 7.790010402260557, \"Comparison\": \"2014\"}, {\"Region\": \"West\", \"Year\": 2021, \"Shootings per 10M citizens\": 7.790010402260557, \"Comparison\": \"2014\"}, {\"Region\": \"West\", \"Year\": 2022, \"Shootings per 10M citizens\": 7.790010402260557, \"Comparison\": \"2014\"}, {\"Region\": \"West\", \"Year\": 2023, \"Shootings per 10M citizens\": 7.790010402260557, \"Comparison\": \"2014\"}], \"data-6a229ef8028a837cc4092b7f2d0230b2\": [{\"Region\": \"Midwest\", \"Year\": 2015, \"Shootings per 10M citizens\": 12.321438081715023, \"Comparison\": \"Comparison Year\"}, {\"Region\": \"Midwest\", \"Year\": 2016, \"Shootings per 10M citizens\": 13.626060937426026, \"Comparison\": \"Comparison Year\"}, {\"Region\": \"Midwest\", \"Year\": 2017, \"Shootings per 10M citizens\": 13.626060937426026, \"Comparison\": \"Comparison Year\"}, {\"Region\": \"Midwest\", \"Year\": 2018, \"Shootings per 10M citizens\": 12.321438081715023, \"Comparison\": \"Comparison Year\"}, {\"Region\": \"Midwest\", \"Year\": 2019, \"Shootings per 10M citizens\": 14.930683793137028, \"Comparison\": \"Comparison Year\"}, {\"Region\": \"Midwest\", \"Year\": 2020, \"Shootings per 10M citizens\": 24.208001878193045, \"Comparison\": \"Comparison Year\"}, {\"Region\": \"Midwest\", \"Year\": 2021, \"Shootings per 10M citizens\": 29.716409491195055, \"Comparison\": \"Comparison Year\"}, {\"Region\": \"Midwest\", \"Year\": 2022, \"Shootings per 10M citizens\": 24.208001878193045, \"Comparison\": \"Comparison Year\"}, {\"Region\": \"Midwest\", \"Year\": 2023, \"Shootings per 10M citizens\": 22.323546642166043, \"Comparison\": \"Comparison Year\"}, {\"Region\": \"Northeast\", \"Year\": 2015, \"Shootings per 10M citizens\": 10.343285941529249, \"Comparison\": \"Comparison Year\"}, {\"Region\": \"Northeast\", \"Year\": 2016, \"Shootings per 10M citizens\": 8.33637971406835, \"Comparison\": \"Comparison Year\"}, {\"Region\": \"Northeast\", \"Year\": 2017, \"Shootings per 10M citizens\": 8.490757116180728, \"Comparison\": \"Comparison Year\"}, {\"Region\": \"Northeast\", \"Year\": 2018, \"Shootings per 10M citizens\": 8.490757116180728, \"Comparison\": \"Comparison Year\"}, {\"Region\": \"Northeast\", \"Year\": 2019, \"Shootings per 10M citizens\": 10.652040745754004, \"Comparison\": \"Comparison Year\"}, {\"Region\": \"Northeast\", \"Year\": 2020, \"Shootings per 10M citizens\": 18.525288253485225, \"Comparison\": \"Comparison Year\"}, {\"Region\": \"Northeast\", \"Year\": 2021, \"Shootings per 10M citizens\": 18.679665655597603, \"Comparison\": \"Comparison Year\"}, {\"Region\": \"Northeast\", \"Year\": 2022, \"Shootings per 10M citizens\": 15.28336280912531, \"Comparison\": \"Comparison Year\"}, {\"Region\": \"Northeast\", \"Year\": 2023, \"Shootings per 10M citizens\": 14.974608004900555, \"Comparison\": \"Comparison Year\"}, {\"Region\": \"Southeast\", \"Year\": 2015, \"Shootings per 10M citizens\": 13.01220432227446, \"Comparison\": \"Comparison Year\"}, {\"Region\": \"Southeast\", \"Year\": 2016, \"Shootings per 10M citizens\": 14.4189291138717, \"Comparison\": \"Comparison Year\"}, {\"Region\": \"Southeast\", \"Year\": 2017, \"Shootings per 10M citizens\": 13.481112586140206, \"Comparison\": \"Comparison Year\"}, {\"Region\": \"Southeast\", \"Year\": 2018, \"Shootings per 10M citizens\": 12.777750190341587, \"Comparison\": \"Comparison Year\"}, {\"Region\": \"Southeast\", \"Year\": 2019, \"Shootings per 10M citizens\": 14.770610311771009, \"Comparison\": \"Comparison Year\"}, {\"Region\": \"Southeast\", \"Year\": 2020, \"Shootings per 10M citizens\": 24.031548523119497, \"Comparison\": \"Comparison Year\"}, {\"Region\": \"Southeast\", \"Year\": 2021, \"Shootings per 10M citizens\": 23.09373199538801, \"Comparison\": \"Comparison Year\"}, {\"Region\": \"Southeast\", \"Year\": 2022, \"Shootings per 10M citizens\": 24.500456786985247, \"Comparison\": \"Comparison Year\"}, {\"Region\": \"Southeast\", \"Year\": 2023, \"Shootings per 10M citizens\": 25.3210462487503, \"Comparison\": \"Comparison Year\"}, {\"Region\": \"Southwest\", \"Year\": 2015, \"Shootings per 10M citizens\": 7.079832808332265, \"Comparison\": \"Comparison Year\"}, {\"Region\": \"Southwest\", \"Year\": 2016, \"Shootings per 10M citizens\": 9.439777077776354, \"Comparison\": \"Comparison Year\"}, {\"Region\": \"Southwest\", \"Year\": 2017, \"Shootings per 10M citizens\": 6.843838381387856, \"Comparison\": \"Comparison Year\"}, {\"Region\": \"Southwest\", \"Year\": 2018, \"Shootings per 10M citizens\": 5.663866246665812, \"Comparison\": \"Comparison Year\"}, {\"Region\": \"Southwest\", \"Year\": 2019, \"Shootings per 10M citizens\": 9.911765931665169, \"Comparison\": \"Comparison Year\"}, {\"Region\": \"Southwest\", \"Year\": 2020, \"Shootings per 10M citizens\": 9.911765931665169, \"Comparison\": \"Comparison Year\"}, {\"Region\": \"Southwest\", \"Year\": 2021, \"Shootings per 10M citizens\": 15.103643324442164, \"Comparison\": \"Comparison Year\"}, {\"Region\": \"Southwest\", \"Year\": 2022, \"Shootings per 10M citizens\": 17.69958202083066, \"Comparison\": \"Comparison Year\"}, {\"Region\": \"Southwest\", \"Year\": 2023, \"Shootings per 10M citizens\": 19.587537436385933, \"Comparison\": \"Comparison Year\"}, {\"Region\": \"West\", \"Year\": 2015, \"Shootings per 10M citizens\": 5.04908081627999, \"Comparison\": \"Comparison Year\"}, {\"Region\": \"West\", \"Year\": 2016, \"Shootings per 10M citizens\": 9.088345469303983, \"Comparison\": \"Comparison Year\"}, {\"Region\": \"West\", \"Year\": 2017, \"Shootings per 10M citizens\": 6.635934787110846, \"Comparison\": \"Comparison Year\"}, {\"Region\": \"West\", \"Year\": 2018, \"Shootings per 10M citizens\": 7.212972594685701, \"Comparison\": \"Comparison Year\"}, {\"Region\": \"West\", \"Year\": 2019, \"Shootings per 10M citizens\": 9.232604921197698, \"Comparison\": \"Comparison Year\"}, {\"Region\": \"West\", \"Year\": 2020, \"Shootings per 10M citizens\": 9.521123824985125, \"Comparison\": \"Comparison Year\"}, {\"Region\": \"West\", \"Year\": 2021, \"Shootings per 10M citizens\": 11.540756151497122, \"Comparison\": \"Comparison Year\"}, {\"Region\": \"West\", \"Year\": 2022, \"Shootings per 10M citizens\": 12.262053410965692, \"Comparison\": \"Comparison Year\"}, {\"Region\": \"West\", \"Year\": 2023, \"Shootings per 10M citizens\": 13.416129026115405, \"Comparison\": \"Comparison Year\"}, {\"Region\": \"Midwest\", \"Year\": 2015, \"Shootings per 10M citizens\": 9.132359989977017, \"Comparison\": \"2014\"}, {\"Region\": \"Midwest\", \"Year\": 2016, \"Shootings per 10M citizens\": 9.132359989977017, \"Comparison\": \"2014\"}, {\"Region\": \"Midwest\", \"Year\": 2017, \"Shootings per 10M citizens\": 9.132359989977017, \"Comparison\": \"2014\"}, {\"Region\": \"Midwest\", \"Year\": 2018, \"Shootings per 10M citizens\": 9.132359989977017, \"Comparison\": \"2014\"}, {\"Region\": \"Midwest\", \"Year\": 2019, \"Shootings per 10M citizens\": 9.132359989977017, \"Comparison\": \"2014\"}, {\"Region\": \"Midwest\", \"Year\": 2020, \"Shootings per 10M citizens\": 9.132359989977017, \"Comparison\": \"2014\"}, {\"Region\": \"Midwest\", \"Year\": 2021, \"Shootings per 10M citizens\": 9.132359989977017, \"Comparison\": \"2014\"}, {\"Region\": \"Midwest\", \"Year\": 2022, \"Shootings per 10M citizens\": 9.132359989977017, \"Comparison\": \"2014\"}, {\"Region\": \"Midwest\", \"Year\": 2023, \"Shootings per 10M citizens\": 9.132359989977017, \"Comparison\": \"2014\"}, {\"Region\": \"Northeast\", \"Year\": 2015, \"Shootings per 10M citizens\": 5.86634128027032, \"Comparison\": \"2014\"}, {\"Region\": \"Northeast\", \"Year\": 2016, \"Shootings per 10M citizens\": 5.86634128027032, \"Comparison\": \"2014\"}, {\"Region\": \"Northeast\", \"Year\": 2017, \"Shootings per 10M citizens\": 5.86634128027032, \"Comparison\": \"2014\"}, {\"Region\": \"Northeast\", \"Year\": 2018, \"Shootings per 10M citizens\": 5.86634128027032, \"Comparison\": \"2014\"}, {\"Region\": \"Northeast\", \"Year\": 2019, \"Shootings per 10M citizens\": 5.86634128027032, \"Comparison\": \"2014\"}, {\"Region\": \"Northeast\", \"Year\": 2020, \"Shootings per 10M citizens\": 5.86634128027032, \"Comparison\": \"2014\"}, {\"Region\": \"Northeast\", \"Year\": 2021, \"Shootings per 10M citizens\": 5.86634128027032, \"Comparison\": \"2014\"}, {\"Region\": \"Northeast\", \"Year\": 2022, \"Shootings per 10M citizens\": 5.86634128027032, \"Comparison\": \"2014\"}, {\"Region\": \"Northeast\", \"Year\": 2023, \"Shootings per 10M citizens\": 5.86634128027032, \"Comparison\": \"2014\"}, {\"Region\": \"Southeast\", \"Year\": 2015, \"Shootings per 10M citizens\": 10.433208871012855, \"Comparison\": \"2014\"}, {\"Region\": \"Southeast\", \"Year\": 2016, \"Shootings per 10M citizens\": 10.433208871012855, \"Comparison\": \"2014\"}, {\"Region\": \"Southeast\", \"Year\": 2017, \"Shootings per 10M citizens\": 10.433208871012855, \"Comparison\": \"2014\"}, {\"Region\": \"Southeast\", \"Year\": 2018, \"Shootings per 10M citizens\": 10.433208871012855, \"Comparison\": \"2014\"}, {\"Region\": \"Southeast\", \"Year\": 2019, \"Shootings per 10M citizens\": 10.433208871012855, \"Comparison\": \"2014\"}, {\"Region\": \"Southeast\", \"Year\": 2020, \"Shootings per 10M citizens\": 10.433208871012855, \"Comparison\": \"2014\"}, {\"Region\": \"Southeast\", \"Year\": 2021, \"Shootings per 10M citizens\": 10.433208871012855, \"Comparison\": \"2014\"}, {\"Region\": \"Southeast\", \"Year\": 2022, \"Shootings per 10M citizens\": 10.433208871012855, \"Comparison\": \"2014\"}, {\"Region\": \"Southeast\", \"Year\": 2023, \"Shootings per 10M citizens\": 10.433208871012855, \"Comparison\": \"2014\"}, {\"Region\": \"Southwest\", \"Year\": 2015, \"Shootings per 10M citizens\": 4.9558829658325845, \"Comparison\": \"2014\"}, {\"Region\": \"Southwest\", \"Year\": 2016, \"Shootings per 10M citizens\": 4.9558829658325845, \"Comparison\": \"2014\"}, {\"Region\": \"Southwest\", \"Year\": 2017, \"Shootings per 10M citizens\": 4.9558829658325845, \"Comparison\": \"2014\"}, {\"Region\": \"Southwest\", \"Year\": 2018, \"Shootings per 10M citizens\": 4.9558829658325845, \"Comparison\": \"2014\"}, {\"Region\": \"Southwest\", \"Year\": 2019, \"Shootings per 10M citizens\": 4.9558829658325845, \"Comparison\": \"2014\"}, {\"Region\": \"Southwest\", \"Year\": 2020, \"Shootings per 10M citizens\": 4.9558829658325845, \"Comparison\": \"2014\"}, {\"Region\": \"Southwest\", \"Year\": 2021, \"Shootings per 10M citizens\": 4.9558829658325845, \"Comparison\": \"2014\"}, {\"Region\": \"Southwest\", \"Year\": 2022, \"Shootings per 10M citizens\": 4.9558829658325845, \"Comparison\": \"2014\"}, {\"Region\": \"Southwest\", \"Year\": 2023, \"Shootings per 10M citizens\": 4.9558829658325845, \"Comparison\": \"2014\"}, {\"Region\": \"West\", \"Year\": 2015, \"Shootings per 10M citizens\": 7.790010402260557, \"Comparison\": \"2014\"}, {\"Region\": \"West\", \"Year\": 2016, \"Shootings per 10M citizens\": 7.790010402260557, \"Comparison\": \"2014\"}, {\"Region\": \"West\", \"Year\": 2017, \"Shootings per 10M citizens\": 7.790010402260557, \"Comparison\": \"2014\"}, {\"Region\": \"West\", \"Year\": 2018, \"Shootings per 10M citizens\": 7.790010402260557, \"Comparison\": \"2014\"}, {\"Region\": \"West\", \"Year\": 2019, \"Shootings per 10M citizens\": 7.790010402260557, \"Comparison\": \"2014\"}, {\"Region\": \"West\", \"Year\": 2020, \"Shootings per 10M citizens\": 7.790010402260557, \"Comparison\": \"2014\"}, {\"Region\": \"West\", \"Year\": 2021, \"Shootings per 10M citizens\": 7.790010402260557, \"Comparison\": \"2014\"}, {\"Region\": \"West\", \"Year\": 2022, \"Shootings per 10M citizens\": 7.790010402260557, \"Comparison\": \"2014\"}, {\"Region\": \"West\", \"Year\": 2023, \"Shootings per 10M citizens\": 7.790010402260557, \"Comparison\": \"2014\"}]}}, {\"mode\": \"vega-lite\"});\n",
              "</script>"
            ],
            "text/plain": [
              "alt.HConcatChart(...)"
            ]
          },
          "metadata": {},
          "execution_count": 126
        }
      ]
    },
    {
      "cell_type": "markdown",
      "source": [
        "## **Third question**\n",
        "#### **For the visualization in Q1, it should be possible to select a state, and show the detailed information on its counties.**"
      ],
      "metadata": {
        "id": "XgtyrKLn2VOV"
      }
    }
  ]
}
