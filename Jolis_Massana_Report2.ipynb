{
  "nbformat": 4,
  "nbformat_minor": 0,
  "metadata": {
    "colab": {
      "provenance": []
    },
    "kernelspec": {
      "name": "python3",
      "display_name": "Python 3"
    },
    "language_info": {
      "name": "python"
    }
  },
  "cells": [
    {
      "cell_type": "markdown",
      "source": [
        "## **Second project:** Analysis of the evolution of Mass Shootings in the US\n",
        "\n",
        "Authors: **Raquel Jolis Carné and Martina Massana Massip**"
      ],
      "metadata": {
        "id": "H_xqeOLq0xX5"
      }
    },
    {
      "cell_type": "markdown",
      "source": [
        "**Uploading the folder *visualization_data*** will ensure all necessary datasets are loaded to properly treat them in this notebook."
      ],
      "metadata": {
        "id": "0_JZG9bS04wz"
      }
    },
    {
      "cell_type": "markdown",
      "source": [
        "## **Data Cleaning with OpenRefine**"
      ],
      "metadata": {
        "id": "qlHenejq08Iw"
      }
    },
    {
      "cell_type": "markdown",
      "source": [
        "The only document we done a thorough data cleaning for is *MassShootings.csv*, which we have conducted the following procedure.  \n",
        "\n",
        "1. Changing the type of **numerical data columns from *strings* to *integers*.** As well as setting the ***Incident Date*** column as a ***timestamp.***\n",
        "2. Combining the columns ***State, City or County* and *Address* into a single *Complete_Address*** with the three fields.\n",
        "3. Extracting **OpenStreetMap coordinates** for the complete addresses into a new *Coordinates* column.  \n",
        "4. **Erasing rows** where **coordinates** were **not found.**\n",
        "5. **Separating the *Coordinates*** values into two columns: ***Longitude* and *Latitude.***\n",
        "6. Extracting ***FIPS* codes and *Population*** for each state by **fetching information from wikidata** using a Reconciling facet in OpenRefine.\n",
        "7. Adding a new column ***Region*** with categories: *Midwest*, *Northeast*, *Southeast*, *Soutwest* and *West*.\n",
        "\n",
        "Additional transformations to answer the concrete questions have been specified in the pertinent exercicies in the creation of *Pandas* dataframes by joining multiple datasets and selecting relevant columns."
      ],
      "metadata": {
        "id": "KFNambtR0-Am"
      }
    },
    {
      "cell_type": "code",
      "execution_count": 290,
      "metadata": {
        "id": "5x_AmwA92JS8"
      },
      "outputs": [],
      "source": [
        "!pip install -q altair==5.4.1"
      ]
    },
    {
      "cell_type": "code",
      "source": [
        "import pandas as pd\n",
        "import altair as alt\n",
        "\n",
        "# for County choropleths\n",
        "import geopandas as gpd\n",
        "from shapely.geometry import Point\n",
        "from shapely.geometry import Polygon, MultiPolygon"
      ],
      "metadata": {
        "id": "CmoKvJ982MrA"
      },
      "execution_count": 291,
      "outputs": []
    },
    {
      "cell_type": "code",
      "source": [
        "mass_shootings = pd.read_csv('MassShootings.csv')\n",
        "counties_gdf = gpd.read_file('Counties.geojson')"
      ],
      "metadata": {
        "id": "VATqD5a72Pgy"
      },
      "execution_count": 292,
      "outputs": []
    },
    {
      "cell_type": "code",
      "source": [
        "mass_shootings['Incident Date'] = pd.to_datetime(mass_shootings['Incident Date'])\n",
        "mass_shootings['Month_Year'] = mass_shootings['Incident Date'].dt.to_period('M')\n",
        "mass_shootings = mass_shootings.drop('Incident Date', axis=1)\n",
        "\n",
        "# grouping BY STATE AND MONTH\n",
        "mass_shootings_states = mass_shootings.groupby(['State', 'Month_Year', 'Region', 'Population']).size().reset_index(name='Total Shootings')\n",
        "\n",
        "# grouping BY REGION AND MONTH\n",
        "mass_shootings_regions = mass_shootings.groupby(['Region', 'Month_Year']).size().reset_index(name='Total Shootings')\n",
        "region_population = mass_shootings_states.drop_duplicates('State').groupby(['Region'])['Population'].sum()\n",
        "mass_shootings_regions = mass_shootings_regions.merge(region_population, on='Region')"
      ],
      "metadata": {
        "id": "g2FPRLrU0A8f"
      },
      "execution_count": null,
      "outputs": []
    },
    {
      "cell_type": "markdown",
      "source": [
        "## **First question**\n",
        "#### **How has the number of mass shootings evolved in the big US regions between two concrete years? And by States?**"
      ],
      "metadata": {
        "id": "-fUvbPDs1y5k"
      }
    },
    {
      "cell_type": "markdown",
      "source": [
        "## **Second question**\n",
        "#### **Given a concrete year, how has the number of mass shooting per citizen grown or decreased across the different regions in the US compared to the first year of sampled data?**"
      ],
      "metadata": {
        "id": "3BSYrt6Q1z79"
      }
    },
    {
      "cell_type": "markdown",
      "source": [
        "**Data preparation**"
      ],
      "metadata": {
        "id": "NKM4qNQn1uLm"
      }
    },
    {
      "cell_type": "code",
      "source": [
        "mass_shootings_regions['Year'] = mass_shootings_regions['Month_Year'].apply(lambda x: x.year)\n",
        "mass_shootings_regions = mass_shootings_regions.drop('Month_Year', axis=1)\n",
        "mass_shootings_regions = mass_shootings_regions.groupby(['Region', 'Year', 'Population'])['Total Shootings'].sum().reset_index()\n",
        "mass_shootings_regions['Shootings per 10M citizens'] = mass_shootings_regions['Total Shootings'] / mass_shootings_regions['Population'] * 10**7"
      ],
      "metadata": {
        "id": "rboXPl6C0eum"
      },
      "execution_count": null,
      "outputs": []
    },
    {
      "cell_type": "markdown",
      "source": [
        "**Barchart plotting**"
      ],
      "metadata": {
        "id": "p6E43Dbx2Ozr"
      }
    },
    {
      "cell_type": "code",
      "source": [
        "selection_year = alt.selection_point(encodings = ['color'])\n",
        "color = alt.condition(selection_year,\n",
        "                    alt.Color('Year:O', legend = None),\n",
        "                    alt.value('lightgray')\n",
        ")\n",
        "\n",
        "Q2_years_barchart = alt.Chart(mass_shootings_regions).mark_bar().encode(\n",
        "    x = 'Year:O',\n",
        "    y = 'Shootings per 10M citizens:Q',\n",
        "    color = color,\n",
        "    tooltip = 'Shootings per 10M citizens:Q'\n",
        ").properties(\n",
        "    width = 155,\n",
        "    height = 400\n",
        ").add_params(selection_year)\n",
        "\n",
        "Q2_2014_barchart = alt.Chart(mass_shootings_regions).mark_bar().encode(\n",
        "    x = 'Year:O',\n",
        "    y = 'Shootings per 10M citizens:Q',\n",
        "    color = alt.condition(\n",
        "        alt.datum.Year == 2014,\n",
        "        alt.value('#bcdcec'),\n",
        "        alt.value('transparent')\n",
        "    ),\n",
        "    tooltip = 'Shootings per 10M citizens:Q'\n",
        ")\n",
        "\n",
        "legend_2014 = alt.Chart(mass_shootings_regions).transform_filter(\n",
        "    alt.datum.Year == 2014\n",
        ").mark_circle().encode(\n",
        "    alt.Y('Year:O', title='Reference Year').axis(orient='right'),\n",
        "    color = 'Year:O',\n",
        ")\n",
        "\n",
        "legend = alt.Chart(mass_shootings_regions).transform_filter(\n",
        "    alt.datum.Year > 2014\n",
        ").mark_circle().encode(\n",
        "    alt.Y('Year:O').axis(orient='right'),\n",
        "    color = color,\n",
        ").add_params(selection_year)\n",
        "\n",
        "Q2_barchart_final = (Q2_years_barchart + Q2_2014_barchart).facet(column = 'Region:N') | (legend_2014 & legend)\n",
        "Q2_barchart_final"
      ],
      "metadata": {
        "id": "kHQ_v8VS0ZLo"
      },
      "execution_count": null,
      "outputs": []
    },
    {
      "cell_type": "markdown",
      "source": [
        "## **Third question**\n",
        "#### **For the visualization in Q1, it should be possible to select a state, and show the detailed information on its counties.**"
      ],
      "metadata": {
        "id": "XgtyrKLn2VOV"
      }
    }
  ]
}